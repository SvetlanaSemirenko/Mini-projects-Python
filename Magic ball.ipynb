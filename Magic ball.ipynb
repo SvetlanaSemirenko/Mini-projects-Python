{
 "cells": [
  {
   "cell_type": "markdown",
   "id": "6af74791",
   "metadata": {},
   "source": [
    "## Магический шар \n",
    "### Описание проекта: \n",
    "магический шар (шар судьбы) — шуточный способ предсказывать будущее. Программа должна просить пользователя задать некий вопрос, чтобы случайным образом на него ответить.\n",
    "\n",
    "Составляющие проекта:\n",
    "\n",
    "Целые числа (тип int);\n",
    "\n",
    "Переменные;\n",
    "\n",
    "Ввод / вывод данных (функции input() и print());\n",
    "\n",
    "Условный оператор (if/elif/else);\n",
    "\n",
    "Цикл while;\n",
    "\n",
    "Бесконечный цикл;\n",
    "\n",
    "Операторы break, continue;\n",
    "\n",
    "Работа с модулем random для генерации случайных чисел."
   ]
  },
  {
   "cell_type": "code",
   "execution_count": 2,
   "id": "b4122eae",
   "metadata": {},
   "outputs": [],
   "source": [
    "import random"
   ]
  },
  {
   "cell_type": "code",
   "execution_count": 1,
   "id": "52aa0d35",
   "metadata": {},
   "outputs": [
    {
     "name": "stdout",
     "output_type": "stream",
     "text": [
      "Привет Мир! Я магический шар, и я знаю ответ на любой твой вопрос.\n",
      "Как я могу к Вам обращаться?   Света\n",
      "Привет, Света!\n",
      "Света, ты можешь задать свой вопрос.\n",
      "Я стану дата аналитиком?\n",
      "Хорошие перспективы\n",
      "Хочешь задать еще один вопросик?\n",
      "Введи да или нет\n",
      "н\n",
      "Если передумаешь, возвращайя:)\n"
     ]
    }
   ],
   "source": [
    "\n",
    "\n",
    "strongly_pos = ('Бесспорно','Предрешено', 'Никаких сомнений', 'Определённо да', 'Можешь быть уверен в этом')\n",
    "hesitantly_pos = ('Мне кажется - да', 'Вероятнее всего', 'Хорошие перспективы', 'Знаки говорят - да','Да')\n",
    "neutral = ('Пока неясно, попробуй снова','Спроси позже', 'Лучше не рассказывать', 'Сейчас нельзя предсказать', 'Сконцентрируйся и спроси опять')\n",
    "negative = ('Даже не думай', 'Мой ответ - нет', 'По моим данным - нет', 'Перспективы не очень хорошие', 'Весьма сомнительно')\n",
    "answers = [i for i in strongly_pos] + [i for i in hesitantly_pos] + [i for i in neutral] + [i for i in negative]\n",
    "another_q = ['Хочешь задать еще один вопросик?', 'Дополнительные вопросы?', 'Давай продолжим?']\n",
    "\n",
    "print('Привет Мир! Я магический шар, и я знаю ответ на любой твой вопрос.')\n",
    "s = input('Как я могу к Вам обращаться?   ')\n",
    "print(f'Привет, {s}!')\n",
    "\n",
    "def question():\n",
    "    print(f'{s}, ты можешь задать свой вопрос.')\n",
    "    n = input()\n",
    "    ans = random.choice(answers)   \n",
    "    print(ans)\n",
    "    more_question = random.choice(another_q)\n",
    "    print(more_question)\n",
    "    new_question()\n",
    "\n",
    "def new_question():\n",
    "    print(\"Введи да или нет\")\n",
    "    answer = input()\n",
    "    if answer.lower() == 'да' or answer.lower() == 'д':\n",
    "        question()\n",
    "    elif answer.lower() == 'нет' or answer.lower() == 'н':\n",
    "        print('Если передумаешь, возвращайся:)')\n",
    "        \n",
    "    else:\n",
    "        print(\"Я тебя не понял. Пожалуйста, введи ответ еще раз.\")\n",
    "        new_question()\n",
    "question()"
   ]
  },
  {
   "cell_type": "code",
   "execution_count": 3,
   "id": "03a7e072",
   "metadata": {},
   "outputs": [
    {
     "name": "stdout",
     "output_type": "stream",
     "text": [
      "Hello, World! I am a magic ball! I can answer all your questions!\n",
      "What is your name?  Sveta\n",
      "Wellcome Sveta\n",
      "Ask your question   Luck awaits me?\n",
      "Determined\n",
      "Do you want to know something else? yes or no   н\n",
      "I do not understand you.\n",
      "Ask your question   Will I like my future job?\n",
      "Most likely\n",
      "Do you want to know something else? yes or no   no\n",
      "Come back if you have any questions!\n"
     ]
    }
   ],
   "source": [
    "answers = ['Definitely','Determined', 'No doubt', 'Definitely yes', 'You can be sure of it', \n",
    "           'I think yes', 'Most likely', 'Good prospects', 'Signs say yes', 'Yes',\n",
    "          'Unclear yet, try again', 'Ask later', 'Better not tell', \"Can't predict now\", 'Concentrate and ask again',\n",
    "          \"Don't even think\", 'My answer is no', 'According to my data, no', 'Prospects are not very good', 'Very doubtful']\n",
    "print('Hello, World! I am a magic ball! I can answer all your questions!')\n",
    "accost = input('What is your name?  ')\n",
    "print(f'Wellcome {accost}')\n",
    "while True:\n",
    "    ball = input('Ask your question   ')\n",
    "    print(random.choice(answers))\n",
    "    again = input('Do you want to know something else? yes or no   ')\n",
    "    if again == 'no':\n",
    "        print('Come back if you have any questions!')\n",
    "        break\n",
    "    elif again == 'yes':\n",
    "        continue\n",
    "    else:\n",
    "        print('I do not understand you.')\n",
    "        "
   ]
  },
  {
   "cell_type": "code",
   "execution_count": null,
   "id": "d4c5fabe",
   "metadata": {},
   "outputs": [],
   "source": []
  }
 ],
 "metadata": {
  "kernelspec": {
   "display_name": "Python 3 (ipykernel)",
   "language": "python",
   "name": "python3"
  },
  "language_info": {
   "codemirror_mode": {
    "name": "ipython",
    "version": 3
   },
   "file_extension": ".py",
   "mimetype": "text/x-python",
   "name": "python",
   "nbconvert_exporter": "python",
   "pygments_lexer": "ipython3",
   "version": "3.9.12"
  }
 },
 "nbformat": 4,
 "nbformat_minor": 5
}
