{
 "cells": [
  {
   "cell_type": "markdown",
   "id": "0ef4cd12",
   "metadata": {},
   "source": [
    "## Шифр Цезаря\n",
    "Описание проекта: требуется написать программу, способную шифровать и дешифровать текст в соответствии с алгоритмом Цезаря. Она должна запрашивать у пользователя следующие данные:\n",
    "\n",
    "- направление: шифрование или дешифрование;\n",
    "- язык алфавита: русский или английский;\n",
    "- шаг сдвига (со сдвигом вправо).\n",
    "\n",
    "Примечание 1. Считайте, что в русском языке 32 буквы (буква ё отсутствует).\n",
    "\n",
    "Примечание 2. Неалфавитные символы — знаки препинания, пробелы, цифры — не меняются.\n",
    "\n",
    "Примечание 3. Сохраните регистр символов. Например, текст: \"Умом Россию не понять\" при сдвиге на одну позицию вправо будет преобразован в: \"Фнпн Спттйя ож рпоауэ\".\n",
    "\n",
    "Составляющие проекта:\n",
    "\n",
    "- Целые числа (тип int);\n",
    "- Модульная арифметика;\n",
    "- Переменные;\n",
    "- Ввод / вывод данных (функции input() и print());\n",
    "- Условный оператор (if/elif/else);\n",
    "- Цикл for/while;\n",
    "- Строковые методы."
   ]
  },
  {
   "cell_type": "code",
   "execution_count": 7,
   "id": "9a899ce3",
   "metadata": {},
   "outputs": [
    {
     "name": "stdout",
     "output_type": "stream",
     "text": [
      "Привет! Как тебя зовут?  Света\n",
      "Света, я помогу тебе отправить тайное послание и расшифровать ответ!\n",
      "Выбери направление: \n",
      "(+) - Шифрование \n",
      "(-) - Дешифрование:\n",
      " +\n",
      "Выбери язык алфавита: \n",
      "0 - Русский \n",
      "1 - Английский: \n",
      "1\n",
      "Введи число, шаг сдвига (со сдвигом вправо): 3\n",
      "Введи текст:\n",
      "To be, or not to be, that is the question!\n",
      "Wr eh, ru qrw wr eh, wkdw lv wkh txhvwlrq!\n",
      "Что ж, Света, мы справились! До встречи! Ave, Caesar!\n"
     ]
    }
   ],
   "source": [
    "address = input('Привет! Как тебя зовут?  ')\n",
    "print(f'{address}, я помогу тебе отправить тайное послание и расшифровать ответ!')\n",
    "\n",
    "abc = ['АБВГДЕЖЗИЙКЛМНОПРСТУФХЦЧШЩЪЫЬЭЮЯ', 'ABCDEFGHIJKLMNOPQRSTUVWXYZ']\n",
    "direction = input('Выбери направление: \\n(+) - Шифрование \\n(-) - Дешифрование:\\n ')\n",
    "lang = int(input('Выбери язык алфавита: \\n0 - Русский \\n1 - Английский: \\n'))\n",
    "step = int(direction + input('Введи число, шаг сдвига (со сдвигом вправо): '))\n",
    "text = input('Введи текст:\\n')\n",
    "\n",
    "for i in text:\n",
    "    if i.isalpha():\n",
    "        char = abc[lang][(abc[lang].index(i.upper()) + step) % len(abc[lang])]\n",
    "        print(char if i.isupper() else char.lower(), end='')\n",
    "    else:\n",
    "        print(i, end='')\n",
    "print()        \n",
    "print(f'Что ж, {address}, мы справились! До встречи! Ave, Caesar!')"
   ]
  },
  {
   "cell_type": "code",
   "execution_count": null,
   "id": "8da379c0",
   "metadata": {},
   "outputs": [],
   "source": []
  }
 ],
 "metadata": {
  "kernelspec": {
   "display_name": "Python 3 (ipykernel)",
   "language": "python",
   "name": "python3"
  },
  "language_info": {
   "codemirror_mode": {
    "name": "ipython",
    "version": 3
   },
   "file_extension": ".py",
   "mimetype": "text/x-python",
   "name": "python",
   "nbconvert_exporter": "python",
   "pygments_lexer": "ipython3",
   "version": "3.9.7"
  }
 },
 "nbformat": 4,
 "nbformat_minor": 5
}
