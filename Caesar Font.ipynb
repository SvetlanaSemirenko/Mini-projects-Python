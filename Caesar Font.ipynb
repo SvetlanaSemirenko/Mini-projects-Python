{
 "cells": [
  {
   "cell_type": "code",
   "execution_count": 2,
   "id": "f66626f1",
   "metadata": {},
   "outputs": [
    {
     "name": "stdout",
     "output_type": "stream",
     "text": [
      "Привет! Я помогу тебе отправить тайное послание и расшифровать ответ!\n",
      "Выбери направление: \n",
      "(+) - Шифрование \n",
      "(-) - Дешифрование:\n",
      " -\n",
      "Выбери язык алфавита: \n",
      "0 - Русский \n",
      "1 - English: \n",
      "1\n",
      "Введи число: 25\n",
      "Введи текст для обработки:\n",
      "Sgd fqzrr hr zkvzxr fqddmdq nm sgd nsgdq rhcd ne sgd edmbd.\n",
      "The grass is always greener on the other side of the fence."
     ]
    }
   ],
   "source": [
    "abc = ['АБВГДЕЖЗИЙКЛМНОПРСТУФХЦЧШЩЪЫЬЭЮЯ', 'ABCDEFGHIJKLMNOPQRSTUVWXYZ']\n",
    "print('Привет! Я помогу тебе отправить тайное послание и расшифровать ответ!')\n",
    "direction = input('Выбери направление: \\n(+) - Шифрование \\n(-) - Дешифрование:\\n ')\n",
    "lang = int(input('Выбери язык алфавита: \\n0 - Русский \\n1 - English: \\n'))\n",
    "step = int(direction + input('Введи число: '))\n",
    "text = input('Введи текст для обработки:\\n')\n",
    "\n",
    "for i in text:\n",
    "    if i.isalpha():\n",
    "        char = abc[lang][(abc[lang].index(i.upper()) + step) % len(abc[lang])]\n",
    "        print(char if i.isupper() else char.lower(), end='')\n",
    "    else:\n",
    "        print(i, end='')"
   ]
  },
  {
   "cell_type": "code",
   "execution_count": 3,
   "id": "36fc1ae8",
   "metadata": {},
   "outputs": [
    {
     "name": "stdout",
     "output_type": "stream",
     "text": [
      "Hawnj pk swhg xabkna ukq nqj.\n",
      "Gzvmi oj rvgf wzajmz tjp mpi.\n",
      "Fyulh ni qufe vyzily sio loh.\n",
      "Extkg mh pted uxyhkx rhn kng.\n",
      "Dwsjf lg osdc twxgjw qgm jmf.\n",
      "Cvrie kf nrcb svwfiv pfl ile.\n",
      "Buqhd je mqba ruvehu oek hkd.\n",
      "Atpgc id lpaz qtudgt ndj gjc.\n",
      "Zsofb hc kozy pstcfs mci fib.\n",
      "Yrnea gb jnyx orsber lbh eha.\n",
      "Xqmdz fa imxw nqradq kag dgz.\n",
      "Wplcy ez hlwv mpqzcp jzf cfy.\n",
      "Vokbx dy gkvu lopybo iye bex.\n",
      "Unjaw cx fjut knoxan hxd adw.\n",
      "Tmizv bw eits jmnwzm gwc zcv.\n",
      "Slhyu av dhsr ilmvyl fvb ybu.\n",
      "Rkgxt zu cgrq hkluxk eua xat.\n",
      "Qjfws yt bfqp gjktwj dtz wzs.\n",
      "Pievr xs aepo fijsvi csy vyr.\n",
      "Ohduq wr zdon ehiruh brx uxq.\n",
      "Ngctp vq ycnm dghqtg aqw twp.\n",
      "Mfbso up xbml cfgpsf zpv svo.\n",
      "Learn to walk before you run.\n",
      "Kdzqm sn vzkj adenqd xnt qtm.\n",
      "Jcypl rm uyji zcdmpc wms psl.\n"
     ]
    }
   ],
   "source": [
    "s = \"Hawnj pk swhg xabkna ukq nqj.\"\n",
    "\n",
    "d = 'abcdefghijklmnopqrstuvwxyz'\n",
    "\n",
    "for k in range(25):\n",
    "    b = ''\n",
    "    for i in range(len(s)):\n",
    "        if not s[i].isalpha():\n",
    "            b += s[i]\n",
    "        else:\n",
    "            if s[i].isupper():\n",
    "                b += (d[d.find(s[i].lower())-k]).upper()\n",
    "            else:\n",
    "                b += d[d.find(s[i].lower())-k]\n",
    "    print(b)"
   ]
  },
  {
   "cell_type": "markdown",
   "id": "c04283ef",
   "metadata": {},
   "source": [
    "## Аве, Цезарь 🌶️\n",
    "На вход программе подается строка текста на английском языке, в которой нужно зашифровать все слова. Каждое слово строки следует зашифровать с помощью шифра Цезаря (циклического сдвига на длину этого слова). Строчные буквы при этом остаются строчными, а прописные – прописными.\n",
    "\n",
    "Формат входных данных \n",
    "На вход программе подается строка текста на английском языке.\n",
    "\n",
    "Формат выходных данных\n",
    "Программа должна вывести зашифрованный текст в соответствии с условием задачи."
   ]
  },
  {
   "cell_type": "code",
   "execution_count": null,
   "id": "20396616",
   "metadata": {},
   "outputs": [],
   "source": [
    "n = input()\n",
    "s = n\n",
    "for j in n:\n",
    "    if j in '*,.!@\"-':\n",
    "        s = s.replace(j, '')\n",
    "g = [len(i) for i in s.split()]\n",
    "\n",
    "# объявляем переменную счетчик, когда попадается пробел переходим на след ячейку в словаре\n",
    "count = 0\n",
    "word_new = ''\n",
    "for d in n:\n",
    "    number = ord(d)\n",
    "    if d == ' ':\n",
    "        count += 1\n",
    "        word_new += chr(number)\n",
    "    elif 65 <= number <= 90:\n",
    "        number += g[count]\n",
    "        if number > 90:\n",
    "            number = number - 26\n",
    "            word_new += chr(number)\n",
    "        else:\n",
    "            word_new += chr(number)\n",
    "    elif 97 <= number <= 122:\n",
    "        number += g[count]\n",
    "        if number > 122:\n",
    "            number = number - 26\n",
    "            word_new += chr(number)\n",
    "        else:\n",
    "            word_new += chr(number)\n",
    "    else:\n",
    "        word_new += chr(number)\n",
    "print(word_new)   "
   ]
  },
  {
   "cell_type": "code",
   "execution_count": 2,
   "id": "8cc72cf2",
   "metadata": {},
   "outputs": [
    {
     "name": "stdout",
     "output_type": "stream",
     "text": [
      "my name is Python!\n",
      "oa reqi ku Veznut!\n"
     ]
    }
   ],
   "source": [
    "s = input()\n",
    "ss = s\n",
    "\n",
    "for ch in s:\n",
    "    if ch in '.,-\"?!:;/<>)(':\n",
    "        ss = ss.replace(ch, '')\n",
    "n = [len(i) for i in ss.split()]\n",
    "\n",
    "counter = 0\n",
    "text = ''\n",
    "for c in s:\n",
    "    num = ord(c)\n",
    "    if c == ' ':\n",
    "        counter += 1\n",
    "        text += chr(num)\n",
    "    elif 65 <= num <= 90:\n",
    "        num += n[counter]\n",
    "        if num > 90:\n",
    "            num -= 26\n",
    "            text += chr(num)\n",
    "        else:\n",
    "            text += chr(num)\n",
    "    elif 97 <= num <= 122:\n",
    "        num += n[counter]\n",
    "        if num > 122:\n",
    "            num -= 26\n",
    "            text += chr(num)\n",
    "        else:\n",
    "            text += chr(num)\n",
    "    else:\n",
    "        text += chr(num)\n",
    "print(text)"
   ]
  },
  {
   "cell_type": "code",
   "execution_count": 4,
   "id": "cbfdfd7a",
   "metadata": {},
   "outputs": [
    {
     "name": "stdout",
     "output_type": "stream",
     "text": [
      "Day, mice. \"Year\" is a mistake!\n"
     ]
    },
    {
     "data": {
      "text/plain": [
       "[3, 4, 4, 2, 1, 7]"
      ]
     },
     "execution_count": 4,
     "metadata": {},
     "output_type": "execute_result"
    }
   ],
   "source": [
    "n = input()\n",
    "s = n\n",
    "for j in n:\n",
    "    if j in '*,.!@\"-':\n",
    "        s = s.replace(j, '')\n",
    "g = [len(i) for i in s.split()]\n",
    "g"
   ]
  },
  {
   "cell_type": "code",
   "execution_count": 11,
   "id": "35bc896d",
   "metadata": {},
   "outputs": [
    {
     "name": "stdout",
     "output_type": "stream",
     "text": [
      "Day, mice. \"Year\" is a mistake!\n"
     ]
    },
    {
     "data": {
      "text/plain": [
       "'e'"
      ]
     },
     "execution_count": 11,
     "metadata": {},
     "output_type": "execute_result"
    }
   ],
   "source": [
    "s = input()\n",
    "for j in s:\n",
    "    if j in '*,.!@\"-':\n",
    "        s = s.replace(j, '')\n",
    "g = [len(i) for i in s.split()]\n",
    "for d in s:\n",
    "    number = ord(d)\n",
    "number"
   ]
  },
  {
   "cell_type": "code",
   "execution_count": 5,
   "id": "8901d81e",
   "metadata": {},
   "outputs": [
    {
     "name": "stdout",
     "output_type": "stream",
     "text": [
      "my name is Python!\n",
      "oa reqi ku Veznut!\n"
     ]
    }
   ],
   "source": [
    "s = input()\n",
    "ss = s\n",
    "\n",
    "for ch in s:\n",
    "    if ch in '!@*)(-*<>?,.;:\"':\n",
    "        ss = ss.replace(ch, '')\n",
    "        \n",
    "n = [len(i) for i in ss.split()]\n",
    "\n",
    "score = 0\n",
    "text = ''\n",
    "\n",
    "for c in s:\n",
    "    num = ord(c)\n",
    "    if c == ' ':\n",
    "        score += 1\n",
    "        text += chr(num)\n",
    "    elif 65 <= num <= 90:\n",
    "        num += n[score]\n",
    "        if num > 90:\n",
    "            num -= 26\n",
    "            text += chr(num)\n",
    "        else:\n",
    "            text += chr(num)\n",
    "    elif 97 <= num <= 122:\n",
    "        num += n[score]\n",
    "        if num > 122:\n",
    "            num -= 26\n",
    "            text += chr(num)\n",
    "        else:\n",
    "            text += chr(num)\n",
    "    else:\n",
    "        text += chr(num)\n",
    "print(text)"
   ]
  },
  {
   "cell_type": "code",
   "execution_count": null,
   "id": "b7cd07d1",
   "metadata": {},
   "outputs": [],
   "source": [
    "# сформировать список из слов\n",
    "lst = [i for i in input().split()]\n",
    "\n",
    "# пропишем через def саму формулу кодирования\n",
    "def kod(lst, a):\n",
    "    answer = \"\"\n",
    "    for i in lst:\n",
    "    \n",
    "# знаки препинания не смешаются, их просто добавляем в строку\n",
    "        if i in '\"+!×÷=/_^*?.,:' or i == \" \":\n",
    "            answer += i\n",
    "        else:\n",
    "# если это не знак препинания, то нужно делать сдвиг. переводим значение i в цифру\n",
    "            i = ord(i)\n",
    "#используем значения заглавных букв, это можно посмотреть в интернете или в нашем материале, мы изучали ранее. значение a это наш сдвиг\n",
    "            if 65 <= i <= 90:\n",
    "                if i + a <= 90:\n",
    "                    i = i + a\n",
    "                elif i + a > 90:\n",
    "                    i = 64 + ((i + a) - 90)\n",
    "# по аналогии с прописными буквами.\n",
    "            elif 97 <= i <= 122:\n",
    "                if (i + a) <= 122:\n",
    "                    i = i + a\n",
    "                elif (i + a) > 122:\n",
    "                    i = 96 + ((i + a) - 122)\n",
    "#теперь по формуле переводим числовое значение буквы в нашу обычную букву и добавляем к строке\n",
    "            answer += chr(i)\n",
    "    return answer\n",
    "\n",
    "# сделаем 2й список, чтобы включить туда длину слов. так как сдвиг(шаг) по каждому слову равен его длине\n",
    "lst2 = []\n",
    "for i in lst:\n",
    "\n",
    "# вводим счетчик обязательно между двумя циклами так как нам нужна длина каждого слова, а не фраза целиком\n",
    "    a = 0\n",
    "    for j in i:\n",
    "        if j not in '\"+!×÷=/_^*?.,:':\n",
    "            a += 1\n",
    "    lst2.append(a)\n",
    "\n",
    "# теперь распечатываем результат. \n",
    "for j in range(len(lst)):\n",
    "\n",
    "#в нашу формулу kod полставляем нужное слово и его длину. чтобы взять нужнок значение длины достаточно сделать цикл, что номер слова из основного списка совпадал со вторым\n",
    "    print(kod(lst[j], lst2[j]), end = \" \")"
   ]
  },
  {
   "cell_type": "code",
   "execution_count": null,
   "id": "f95ec595",
   "metadata": {},
   "outputs": [],
   "source": [
    "s = input()  # строка введенного текста\n",
    "symbols_s = [ord(i) for i in s]  # список символов по таблице ASCII\n",
    "letters_s = [i for i in list(s) if i not in (',\".!')]  # список букв и пробелов\n",
    "words_s = ''.join(letters_s).split()  # строка текста без знаков припинания\n",
    "len_words_s = []  # список длин слов\n",
    "space = 0  # переменная для подсчета пробелов\n",
    "finish_str = ''  # строка для конечного текста\n",
    "for i in words_s:\n",
    "    len_words_s += str(len(i))  # заполнение списка длин\n",
    "\n",
    "for i in symbols_s:  # реализация шифрования\n",
    "    if 65 <= i <= 90:\n",
    "        i = i - 65\n",
    "        i += int(len_words_s[space])\n",
    "        i = i % 26 + 65\n",
    "    if 97 <= i <= 122:\n",
    "        i = i - 97\n",
    "        i += int(len_words_s[space])\n",
    "        i = i % 26 + 97\n",
    "    if i == 32:  # символ 32 это пробел\n",
    "        space += 1\n",
    "    finish_str += chr(i)\n",
    "print(finish_str)"
   ]
  },
  {
   "cell_type": "code",
   "execution_count": null,
   "id": "20c460cf",
   "metadata": {},
   "outputs": [],
   "source": [
    "en = 'abcdefghijklmnopqrstuvwxyz'\n",
    "text = input().split()\n",
    "text1 = ''\n",
    "step = 0\n",
    "coder_char_number = 0      \n",
    "for c in text:          #разбивает список по словам\n",
    "    step = len(c)        #шаг равен длине слова\n",
    "    for char in c:        #перебор символов в словах\n",
    "        if char.lower() not in en:      #если символа из слова нет в алфавите шаг уменьшается\n",
    "            step -= 1                 #в конце цикла получаем готовый шаг\n",
    "    for chars in c:\n",
    "        coder_char_number = en.find(chars.lower()) + step    #находит букву в алфавите и прибавляет шаг\n",
    "        if coder_char_number >= len(en) -1:      #если номер расшифрованной буквы,больше длины алфавита\n",
    "            coder_char_number -= len(en)       #от номера буквы отнимается длина алфавита\n",
    "        if chars.isupper() == True:      #если буква заглавная, добавляется заглавная\n",
    "            text1 += en[coder_char_number].upper()\n",
    "            continue               #переход на новую итерацию\n",
    "        if chars.lower() not in en:    #если символ не в алфавите,то просто добавляется\n",
    "            text1 += chars\n",
    "            continue\n",
    "        else:              #остались строчные.добавляются с шагом в строку\n",
    "            text1 += en[coder_char_number]\n",
    "    text1 += ' '    #между буквами пробел, иначе все вместе будет\n",
    "print(text1)"
   ]
  }
 ],
 "metadata": {
  "kernelspec": {
   "display_name": "Python 3 (ipykernel)",
   "language": "python",
   "name": "python3"
  },
  "language_info": {
   "codemirror_mode": {
    "name": "ipython",
    "version": 3
   },
   "file_extension": ".py",
   "mimetype": "text/x-python",
   "name": "python",
   "nbconvert_exporter": "python",
   "pygments_lexer": "ipython3",
   "version": "3.9.7"
  }
 },
 "nbformat": 4,
 "nbformat_minor": 5
}
